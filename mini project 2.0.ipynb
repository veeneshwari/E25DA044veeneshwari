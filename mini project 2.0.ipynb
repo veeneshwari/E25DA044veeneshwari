{
 "cells": [
  {
   "cell_type": "code",
   "execution_count": 12,
   "id": "599da8d8-0fa2-49d0-ae5c-5580eaa6855d",
   "metadata": {},
   "outputs": [
    {
     "name": "stdout",
     "output_type": "stream",
     "text": [
      "         Age  Gender  Score\n",
      "0  25.000000    Male  85.00\n",
      "1  25.666667  Female  90.00\n",
      "2  30.000000  Female  83.25\n",
      "3  22.000000    Male  70.00\n",
      "4  25.666667  Female  88.00\n"
     ]
    }
   ],
   "source": [
    "import pandas as pd\n",
    "import numpy as np\n",
    "data={\n",
    "    \"Age\": [25, np.nan, 30, 22, np.nan],\n",
    "    \"Gender\": [\"Male\", \"Female\", np.nan, \"Male\", \"Female\"],\n",
    "    \"Score\": [85, 90, np.nan, 70, 88]\n",
    "     }\n",
    "df=pd.DataFrame(data)\n",
    "df['Age']=df[\"Age\"].fillna(df[\"Age\"].mean())\n",
    "df['Gender']=df[\"Gender\"].fillna(df[\"Gender\"].mode()[0])\n",
    "df['Score']=df[\"Score\"].fillna(df[\"Score\"].mean())\n",
    "df.to_csv(\"output.csv\", index=False)\n",
    "print(df)"
   ]
  },
  {
   "cell_type": "code",
   "execution_count": null,
   "id": "1afd5dc1-bd33-4483-a6ee-5146dc72e8db",
   "metadata": {},
   "outputs": [],
   "source": []
  },
  {
   "cell_type": "code",
   "execution_count": null,
   "id": "952c15d9-3dd7-4c52-a894-730840c25c54",
   "metadata": {},
   "outputs": [],
   "source": []
  },
  {
   "cell_type": "code",
   "execution_count": null,
   "id": "db216a18-fd80-4f2d-8f7c-702fc175077e",
   "metadata": {},
   "outputs": [],
   "source": []
  },
  {
   "cell_type": "code",
   "execution_count": null,
   "id": "8a92783c-34a6-4cd7-acff-2e7ee19b9fdf",
   "metadata": {},
   "outputs": [],
   "source": []
  }
 ],
 "metadata": {
  "kernelspec": {
   "display_name": "Python [conda env:base] *",
   "language": "python",
   "name": "conda-base-py"
  },
  "language_info": {
   "codemirror_mode": {
    "name": "ipython",
    "version": 3
   },
   "file_extension": ".py",
   "mimetype": "text/x-python",
   "name": "python",
   "nbconvert_exporter": "python",
   "pygments_lexer": "ipython3",
   "version": "3.13.5"
  }
 },
 "nbformat": 4,
 "nbformat_minor": 5
}
