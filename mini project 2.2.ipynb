{
 "cells": [
  {
   "cell_type": "code",
   "execution_count": 1,
   "id": "48518c63-1692-4b75-8f38-d422aabe4b25",
   "metadata": {},
   "outputs": [
    {
     "name": "stdout",
     "output_type": "stream",
     "text": [
      "   Student  Maths  Science  English  Attendence      City\n",
      "0    Alice   85.0     90.0      NaN        95.0  New York\n",
      "1      Bob   78.0      NaN     88.0        80.0       NaN\n",
      "2  Charlie   92.0     85.0     90.0         NaN    London\n",
      "3    David    NaN     75.0     78.0        70.0     Paris\n",
      "4      Eva   88.0     94.0      NaN        88.0       NaN\n",
      "5    Frank   80.0     78.0     86.0        90.0  New York\n",
      "6    Grace    NaN     88.0     99.0        95.0    London\n"
     ]
    }
   ],
   "source": [
    "import pandas as pd\n",
    "import numpy as np\n",
    "data={\n",
    "    \"Age\": [25, np.nan, 30, 22, np.nan],\n",
    "    \"Gender\": [\"Male\", \"Female\", np.nan, \"Male\", \"Female\"],\n",
    "    \"Score\": [85, 90, np.nan, 70, 88]\n",
    "     }\n",
    "df=pd.DataFrame(data)\n",
    "print(df)"
   ]
  },
  {
   "cell_type": "code",
   "execution_count": null,
   "id": "250442a1-d0f5-4e43-9b74-6d2b30dfa2ba",
   "metadata": {},
   "outputs": [],
   "source": []
  }
 ],
 "metadata": {
  "kernelspec": {
   "display_name": "Python [conda env:base] *",
   "language": "python",
   "name": "conda-base-py"
  },
  "language_info": {
   "codemirror_mode": {
    "name": "ipython",
    "version": 3
   },
   "file_extension": ".py",
   "mimetype": "text/x-python",
   "name": "python",
   "nbconvert_exporter": "python",
   "pygments_lexer": "ipython3",
   "version": "3.13.5"
  }
 },
 "nbformat": 4,
 "nbformat_minor": 5
}
