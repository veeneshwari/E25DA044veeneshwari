{
 "cells": [
  {
   "cell_type": "code",
   "execution_count": 1,
   "id": "db86f06f-25a3-492f-b6d1-3de615c60328",
   "metadata": {},
   "outputs": [
    {
     "name": "stdout",
     "output_type": "stream",
     "text": [
      "         Age  Gender  Score\n",
      "0  25.000000    Male  85.00\n",
      "1  25.666667  Female  90.00\n",
      "2  30.000000  Female  83.25\n",
      "3  22.000000    Male  70.00\n",
      "4  25.666667  Female  88.00\n"
     ]
    }
   ],
   "source": [
    "import pandas as pd\n",
    "import numpy as np\n",
    "data={\n",
    "    \"Age\": [25, np.nan, 30, 22, np.nan],\n",
    "    \"Gender\": [\"Male\", \"Female\", np.nan, \"Male\", \"Female\"],\n",
    "    \"Score\": [85, 90, np.nan, 70, 88]\n",
    "     }\n",
    "df=pd.DataFrame(data)\n",
    "df['Age']=df[\"Age\"].fillna(df[\"Age\"].mean())\n",
    "df['Gender']=df[\"Gender\"].fillna(df[\"Gender\"].mode()[0])\n",
    "df['Score']=df[\"Score\"].fillna(df[\"Score\"].mean())\n",
    "print(df)"
   ]
  },
  {
   "cell_type": "code",
   "execution_count": null,
   "id": "478461a4-3ab5-4a93-b501-eb681c48ec89",
   "metadata": {},
   "outputs": [],
   "source": []
  }
 ],
 "metadata": {
  "kernelspec": {
   "display_name": "Python [conda env:base] *",
   "language": "python",
   "name": "conda-base-py"
  },
  "language_info": {
   "codemirror_mode": {
    "name": "ipython",
    "version": 3
   },
   "file_extension": ".py",
   "mimetype": "text/x-python",
   "name": "python",
   "nbconvert_exporter": "python",
   "pygments_lexer": "ipython3",
   "version": "3.13.5"
  }
 },
 "nbformat": 4,
 "nbformat_minor": 5
}
