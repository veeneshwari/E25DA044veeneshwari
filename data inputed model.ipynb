{
 "cells": [
  {
   "cell_type": "code",
   "execution_count": 1,
   "id": "3e0a8a6e-e685-4afa-b206-4766bdbd9275",
   "metadata": {},
   "outputs": [
    {
     "name": "stdout",
     "output_type": "stream",
     "text": [
      "         Age  Gender  Score\n",
      "0  25.000000    Male  85.00\n",
      "1  25.666667  Female  90.00\n",
      "2  30.000000  Female  83.25\n",
      "3  22.000000    Male  70.00\n",
      "4  25.666667  Female  88.00\n"
     ]
    }
   ],
   "source": [
    "import pandas as pd\n",
    "import numpy as np\n",
    "data={\n",
    "    \"Age\": [25, np.nan, 30, 22, np.nan],\n",
    "    \"Gender\": [\"Male\", \"Female\", np.nan, \"Male\", \"Female\"],\n",
    "    \"Score\": [85, 90, np.nan, 70, 88]\n",
    "     }\n",
    "df=pd.DataFrame(data)\n",
    "df['Age']=df[\"Age\"].fillna(df[\"Age\"].mean())\n",
    "df['Gender']=df[\"Gender\"].fillna(df[\"Gender\"].mode()[0])\n",
    "df['Score']=df[\"Score\"].fillna(df[\"Score\"].mean())\n",
    "df.to_csv(\"output.csv\", index=False)\n",
    "print(df)"
   ]
  },
  {
   "cell_type": "code",
   "execution_count": 2,
   "id": "c35dee7a-fb98-4134-a153-26965ae15ab5",
   "metadata": {},
   "outputs": [
    {
     "name": "stdout",
     "output_type": "stream",
     "text": [
      "    Age  Gender  Score\n",
      "0  25.0    Male   85.0\n",
      "1   NaN  Female   90.0\n",
      "2  30.0     NaN    NaN\n",
      "3  22.0    Male   70.0\n",
      "4   NaN  Female   88.0\n"
     ]
    }
   ],
   "source": [
    "import pandas as pd\n",
    "import numpy as np\n",
    "data={\n",
    "    \"Age\": [25, np.nan, 30, 22, np.nan],\n",
    "    \"Gender\": [\"Male\", \"Female\", np.nan, \"Male\", \"Female\"],\n",
    "    \"Score\": [85, 90, np.nan, 70, 88]\n",
    "     }\n",
    "df=pd.DataFrame(data)\n",
    "df.to_csv(\"output.csv\", index=False)\n",
    "print(df)"
   ]
  },
  {
   "cell_type": "code",
   "execution_count": 3,
   "id": "7f7959c4-4dcf-49ab-929c-c041ccd86f6a",
   "metadata": {},
   "outputs": [
    {
     "name": "stdout",
     "output_type": "stream",
     "text": [
      "    Age  Gender  Score\n",
      "0  25.0    Male   85.0\n",
      "1   NaN  Female   90.0\n",
      "2  30.0     NaN    NaN\n",
      "3  22.0    Male   70.0\n",
      "4   NaN  Female   88.0\n"
     ]
    }
   ],
   "source": [
    "import pandas as pd\n",
    "import numpy as np\n",
    "data={\n",
    "    \"Age\": [25, np.nan, 30, 22, np.nan],\n",
    "    \"Gender\": [\"Male\", \"Female\", np.nan, \"Male\", \"Female\"],\n",
    "    \"Score\": [85, 90, np.nan, 70, 88]\n",
    "     }\n",
    "df=pd.DataFrame(data)\n",
    "print(df)"
   ]
  },
  {
   "cell_type": "code",
   "execution_count": 4,
   "id": "3d32529d-d806-4291-a7b8-6870a0ba271c",
   "metadata": {},
   "outputs": [
    {
     "name": "stdout",
     "output_type": "stream",
     "text": [
      "         Age  Gender  Score\n",
      "0  25.000000    Male  85.00\n",
      "1  25.666667  Female  90.00\n",
      "2  30.000000  Female  83.25\n",
      "3  22.000000    Male  70.00\n",
      "4  25.666667  Female  88.00\n"
     ]
    }
   ],
   "source": [
    "import pandas as pd\n",
    "import numpy as np\n",
    "data={\n",
    "    \"Age\": [25, np.nan, 30, 22, np.nan],\n",
    "    \"Gender\": [\"Male\", \"Female\", np.nan, \"Male\", \"Female\"],\n",
    "    \"Score\": [85, 90, np.nan, 70, 88]\n",
    "     }\n",
    "df=pd.DataFrame(data)\n",
    "df['Age']=df[\"Age\"].fillna(df[\"Age\"].mean())\n",
    "df['Gender']=df[\"Gender\"].fillna(df[\"Gender\"].mode()[0])\n",
    "df['Score']=df[\"Score\"].fillna(df[\"Score\"].mean())\n",
    "print(df)"
   ]
  },
  {
   "cell_type": "code",
   "execution_count": null,
   "id": "5305b63e-a956-4545-91c9-fd2f054fab55",
   "metadata": {},
   "outputs": [],
   "source": []
  }
 ],
 "metadata": {
  "kernelspec": {
   "display_name": "Python [conda env:base] *",
   "language": "python",
   "name": "conda-base-py"
  },
  "language_info": {
   "codemirror_mode": {
    "name": "ipython",
    "version": 3
   },
   "file_extension": ".py",
   "mimetype": "text/x-python",
   "name": "python",
   "nbconvert_exporter": "python",
   "pygments_lexer": "ipython3",
   "version": "3.13.5"
  }
 },
 "nbformat": 4,
 "nbformat_minor": 5
}
